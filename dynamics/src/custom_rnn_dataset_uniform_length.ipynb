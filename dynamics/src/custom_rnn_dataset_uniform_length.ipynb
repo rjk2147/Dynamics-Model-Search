{
 "cells": [
  {
   "cell_type": "code",
   "execution_count": 1,
   "metadata": {},
   "outputs": [],
   "source": [
    "import os\n",
    "import numpy as np\n",
    "from data_loader import DataLoader\n",
    "import pickle"
   ]
  },
  {
   "cell_type": "code",
   "execution_count": 2,
   "metadata": {},
   "outputs": [],
   "source": [
    "root = os.getcwd()\n",
    "X = np.load(root+\"/../datasets/states.npy\")\n",
    "A = np.load(root+\"/../datasets/actions.npy\")\n",
    "Y = np.load(root+\"/../datasets/next_states.npy\")\n",
    "X_cat = np.concatenate((X, A), axis=2)"
   ]
  },
  {
   "cell_type": "code",
   "execution_count": 3,
   "metadata": {},
   "outputs": [
    {
     "name": "stdout",
     "output_type": "stream",
     "text": [
      "(178527, 100, 21) (178527, 100, 8) (178527, 100, 29) (178527, 100, 21)\n"
     ]
    }
   ],
   "source": [
    "print(X.shape, A.shape, X_cat.shape, Y.shape)"
   ]
  },
  {
   "cell_type": "code",
   "execution_count": 4,
   "metadata": {},
   "outputs": [
    {
     "data": {
      "text/plain": [
       "1785"
      ]
     },
     "execution_count": 4,
     "metadata": {},
     "output_type": "execute_result"
    }
   ],
   "source": [
    "X.shape[0]//100"
   ]
  },
  {
   "cell_type": "code",
   "execution_count": 5,
   "metadata": {},
   "outputs": [
    {
     "ename": "MemoryError",
     "evalue": "Unable to allocate 1.24 GiB for an array with shape (178527, 89, 21) and data type float32",
     "output_type": "error",
     "traceback": [
      "\u001b[0;31m---------------------------------------------------------------------------\u001b[0m",
      "\u001b[0;31mMemoryError\u001b[0m                               Traceback (most recent call last)",
      "\u001b[0;32m<ipython-input-5-0e4e60063659>\u001b[0m in \u001b[0;36m<module>\u001b[0;34m\u001b[0m\n\u001b[1;32m     33\u001b[0m     \u001b[0mintermediate_states\u001b[0m\u001b[0;34m[\u001b[0m\u001b[0mt\u001b[0m\u001b[0;34m]\u001b[0m \u001b[0;34m=\u001b[0m \u001b[0mnp\u001b[0m\u001b[0;34m.\u001b[0m\u001b[0marray\u001b[0m\u001b[0;34m(\u001b[0m\u001b[0mintermediate_states\u001b[0m\u001b[0;34m[\u001b[0m\u001b[0mt\u001b[0m\u001b[0;34m]\u001b[0m\u001b[0;34m)\u001b[0m\u001b[0;34m\u001b[0m\u001b[0;34m\u001b[0m\u001b[0m\n\u001b[1;32m     34\u001b[0m     \u001b[0moutput_actions\u001b[0m\u001b[0;34m[\u001b[0m\u001b[0mt\u001b[0m\u001b[0;34m]\u001b[0m \u001b[0;34m=\u001b[0m \u001b[0mnp\u001b[0m\u001b[0;34m.\u001b[0m\u001b[0marray\u001b[0m\u001b[0;34m(\u001b[0m\u001b[0moutput_actions\u001b[0m\u001b[0;34m[\u001b[0m\u001b[0mt\u001b[0m\u001b[0;34m]\u001b[0m\u001b[0;34m)\u001b[0m\u001b[0;34m\u001b[0m\u001b[0;34m\u001b[0m\u001b[0m\n\u001b[0;32m---> 35\u001b[0;31m     \u001b[0moutput_states\u001b[0m\u001b[0;34m[\u001b[0m\u001b[0mt\u001b[0m\u001b[0;34m]\u001b[0m \u001b[0;34m=\u001b[0m \u001b[0mnp\u001b[0m\u001b[0;34m.\u001b[0m\u001b[0marray\u001b[0m\u001b[0;34m(\u001b[0m\u001b[0moutput_states\u001b[0m\u001b[0;34m[\u001b[0m\u001b[0mt\u001b[0m\u001b[0;34m]\u001b[0m\u001b[0;34m)\u001b[0m\u001b[0;34m\u001b[0m\u001b[0;34m\u001b[0m\u001b[0m\n\u001b[0m",
      "\u001b[0;31mMemoryError\u001b[0m: Unable to allocate 1.24 GiB for an array with shape (178527, 89, 21) and data type float32"
     ]
    }
   ],
   "source": [
    "input_states = {}\n",
    "input_actions = {}\n",
    "intermediate_states = {}\n",
    "output_actions = {}\n",
    "output_states = {}\n",
    "\n",
    "for n in range(X.shape[0]):\n",
    "    x = X[n]        # shape (T=100, D=21)\n",
    "    a = A[n]        # shape (T=100, D=8)\n",
    "    for t in range(1, x.shape[0]-1):\n",
    "        input_state_sequence = x[0:t]\n",
    "        input_action_sequence = a[0:t]\n",
    "        intermediate_state = x[t]\n",
    "        output_state_sequence = x[t+1:]\n",
    "        output_action_sequence = a[t:-1]\n",
    "        \n",
    "        if t in input_states.keys():\n",
    "            input_states[t].append(input_state_sequence)\n",
    "            input_actions[t].append(input_action_sequence)\n",
    "            intermediate_states[t].append(intermediate_state)\n",
    "            output_actions[t].append(output_action_sequence)\n",
    "            output_states[t].append(output_state_sequence)\n",
    "        else:\n",
    "            input_states[t] = [input_state_sequence]\n",
    "            input_actions[t] = [input_action_sequence]\n",
    "            intermediate_states[t] = [intermediate_state]\n",
    "            output_actions[t] = [output_action_sequence]\n",
    "            output_states[t] = [output_state_sequence]\n",
    "\n",
    "for t in input_states.keys():\n",
    "    input_states[t] = np.array(input_states[t])\n",
    "    input_actions[t] = np.array(input_actions[t])\n",
    "    intermediate_states[t] = np.array(intermediate_states[t])\n",
    "    output_actions[t] = np.array(output_actions[t])\n",
    "    output_states[t] = np.array(output_states[t])"
   ]
  },
  {
   "cell_type": "code",
   "execution_count": 9,
   "metadata": {},
   "outputs": [
    {
     "name": "stdout",
     "output_type": "stream",
     "text": [
      "1 (1785, 1, 21) (1785, 1, 8) (1785, 21) (1785, 98, 21) (1785, 98, 8)\n",
      "2 (1785, 2, 21) (1785, 2, 8) (1785, 21) (1785, 97, 21) (1785, 97, 8)\n",
      "3 (1785, 3, 21) (1785, 3, 8) (1785, 21) (1785, 96, 21) (1785, 96, 8)\n",
      "4 (1785, 4, 21) (1785, 4, 8) (1785, 21) (1785, 95, 21) (1785, 95, 8)\n",
      "5 (1785, 5, 21) (1785, 5, 8) (1785, 21) (1785, 94, 21) (1785, 94, 8)\n",
      "6 (1785, 6, 21) (1785, 6, 8) (1785, 21) (1785, 93, 21) (1785, 93, 8)\n",
      "7 (1785, 7, 21) (1785, 7, 8) (1785, 21) (1785, 92, 21) (1785, 92, 8)\n",
      "8 (1785, 8, 21) (1785, 8, 8) (1785, 21) (1785, 91, 21) (1785, 91, 8)\n",
      "9 (1785, 9, 21) (1785, 9, 8) (1785, 21) (1785, 90, 21) (1785, 90, 8)\n",
      "10 (1785, 10, 21) (1785, 10, 8) (1785, 21) (1785, 89, 21) (1785, 89, 8)\n",
      "11 (1785, 11, 21) (1785, 11, 8) (1785, 21) (1785, 88, 21) (1785, 88, 8)\n",
      "12 (1785, 12, 21) (1785, 12, 8) (1785, 21) (1785, 87, 21) (1785, 87, 8)\n",
      "13 (1785, 13, 21) (1785, 13, 8) (1785, 21) (1785, 86, 21) (1785, 86, 8)\n",
      "14 (1785, 14, 21) (1785, 14, 8) (1785, 21) (1785, 85, 21) (1785, 85, 8)\n",
      "15 (1785, 15, 21) (1785, 15, 8) (1785, 21) (1785, 84, 21) (1785, 84, 8)\n",
      "16 (1785, 16, 21) (1785, 16, 8) (1785, 21) (1785, 83, 21) (1785, 83, 8)\n",
      "17 (1785, 17, 21) (1785, 17, 8) (1785, 21) (1785, 82, 21) (1785, 82, 8)\n",
      "18 (1785, 18, 21) (1785, 18, 8) (1785, 21) (1785, 81, 21) (1785, 81, 8)\n",
      "19 (1785, 19, 21) (1785, 19, 8) (1785, 21) (1785, 80, 21) (1785, 80, 8)\n",
      "20 (1785, 20, 21) (1785, 20, 8) (1785, 21) (1785, 79, 21) (1785, 79, 8)\n",
      "21 (1785, 21, 21) (1785, 21, 8) (1785, 21) (1785, 78, 21) (1785, 78, 8)\n",
      "22 (1785, 22, 21) (1785, 22, 8) (1785, 21) (1785, 77, 21) (1785, 77, 8)\n",
      "23 (1785, 23, 21) (1785, 23, 8) (1785, 21) (1785, 76, 21) (1785, 76, 8)\n",
      "24 (1785, 24, 21) (1785, 24, 8) (1785, 21) (1785, 75, 21) (1785, 75, 8)\n",
      "25 (1785, 25, 21) (1785, 25, 8) (1785, 21) (1785, 74, 21) (1785, 74, 8)\n",
      "26 (1785, 26, 21) (1785, 26, 8) (1785, 21) (1785, 73, 21) (1785, 73, 8)\n",
      "27 (1785, 27, 21) (1785, 27, 8) (1785, 21) (1785, 72, 21) (1785, 72, 8)\n",
      "28 (1785, 28, 21) (1785, 28, 8) (1785, 21) (1785, 71, 21) (1785, 71, 8)\n",
      "29 (1785, 29, 21) (1785, 29, 8) (1785, 21) (1785, 70, 21) (1785, 70, 8)\n",
      "30 (1785, 30, 21) (1785, 30, 8) (1785, 21) (1785, 69, 21) (1785, 69, 8)\n",
      "31 (1785, 31, 21) (1785, 31, 8) (1785, 21) (1785, 68, 21) (1785, 68, 8)\n",
      "32 (1785, 32, 21) (1785, 32, 8) (1785, 21) (1785, 67, 21) (1785, 67, 8)\n",
      "33 (1785, 33, 21) (1785, 33, 8) (1785, 21) (1785, 66, 21) (1785, 66, 8)\n",
      "34 (1785, 34, 21) (1785, 34, 8) (1785, 21) (1785, 65, 21) (1785, 65, 8)\n",
      "35 (1785, 35, 21) (1785, 35, 8) (1785, 21) (1785, 64, 21) (1785, 64, 8)\n",
      "36 (1785, 36, 21) (1785, 36, 8) (1785, 21) (1785, 63, 21) (1785, 63, 8)\n",
      "37 (1785, 37, 21) (1785, 37, 8) (1785, 21) (1785, 62, 21) (1785, 62, 8)\n",
      "38 (1785, 38, 21) (1785, 38, 8) (1785, 21) (1785, 61, 21) (1785, 61, 8)\n",
      "39 (1785, 39, 21) (1785, 39, 8) (1785, 21) (1785, 60, 21) (1785, 60, 8)\n",
      "40 (1785, 40, 21) (1785, 40, 8) (1785, 21) (1785, 59, 21) (1785, 59, 8)\n",
      "41 (1785, 41, 21) (1785, 41, 8) (1785, 21) (1785, 58, 21) (1785, 58, 8)\n",
      "42 (1785, 42, 21) (1785, 42, 8) (1785, 21) (1785, 57, 21) (1785, 57, 8)\n",
      "43 (1785, 43, 21) (1785, 43, 8) (1785, 21) (1785, 56, 21) (1785, 56, 8)\n",
      "44 (1785, 44, 21) (1785, 44, 8) (1785, 21) (1785, 55, 21) (1785, 55, 8)\n",
      "45 (1785, 45, 21) (1785, 45, 8) (1785, 21) (1785, 54, 21) (1785, 54, 8)\n",
      "46 (1785, 46, 21) (1785, 46, 8) (1785, 21) (1785, 53, 21) (1785, 53, 8)\n",
      "47 (1785, 47, 21) (1785, 47, 8) (1785, 21) (1785, 52, 21) (1785, 52, 8)\n",
      "48 (1785, 48, 21) (1785, 48, 8) (1785, 21) (1785, 51, 21) (1785, 51, 8)\n",
      "49 (1785, 49, 21) (1785, 49, 8) (1785, 21) (1785, 50, 21) (1785, 50, 8)\n",
      "50 (1785, 50, 21) (1785, 50, 8) (1785, 21) (1785, 49, 21) (1785, 49, 8)\n",
      "51 (1785, 51, 21) (1785, 51, 8) (1785, 21) (1785, 48, 21) (1785, 48, 8)\n",
      "52 (1785, 52, 21) (1785, 52, 8) (1785, 21) (1785, 47, 21) (1785, 47, 8)\n",
      "53 (1785, 53, 21) (1785, 53, 8) (1785, 21) (1785, 46, 21) (1785, 46, 8)\n",
      "54 (1785, 54, 21) (1785, 54, 8) (1785, 21) (1785, 45, 21) (1785, 45, 8)\n",
      "55 (1785, 55, 21) (1785, 55, 8) (1785, 21) (1785, 44, 21) (1785, 44, 8)\n",
      "56 (1785, 56, 21) (1785, 56, 8) (1785, 21) (1785, 43, 21) (1785, 43, 8)\n",
      "57 (1785, 57, 21) (1785, 57, 8) (1785, 21) (1785, 42, 21) (1785, 42, 8)\n",
      "58 (1785, 58, 21) (1785, 58, 8) (1785, 21) (1785, 41, 21) (1785, 41, 8)\n",
      "59 (1785, 59, 21) (1785, 59, 8) (1785, 21) (1785, 40, 21) (1785, 40, 8)\n",
      "60 (1785, 60, 21) (1785, 60, 8) (1785, 21) (1785, 39, 21) (1785, 39, 8)\n",
      "61 (1785, 61, 21) (1785, 61, 8) (1785, 21) (1785, 38, 21) (1785, 38, 8)\n",
      "62 (1785, 62, 21) (1785, 62, 8) (1785, 21) (1785, 37, 21) (1785, 37, 8)\n",
      "63 (1785, 63, 21) (1785, 63, 8) (1785, 21) (1785, 36, 21) (1785, 36, 8)\n",
      "64 (1785, 64, 21) (1785, 64, 8) (1785, 21) (1785, 35, 21) (1785, 35, 8)\n",
      "65 (1785, 65, 21) (1785, 65, 8) (1785, 21) (1785, 34, 21) (1785, 34, 8)\n",
      "66 (1785, 66, 21) (1785, 66, 8) (1785, 21) (1785, 33, 21) (1785, 33, 8)\n",
      "67 (1785, 67, 21) (1785, 67, 8) (1785, 21) (1785, 32, 21) (1785, 32, 8)\n",
      "68 (1785, 68, 21) (1785, 68, 8) (1785, 21) (1785, 31, 21) (1785, 31, 8)\n",
      "69 (1785, 69, 21) (1785, 69, 8) (1785, 21) (1785, 30, 21) (1785, 30, 8)\n",
      "70 (1785, 70, 21) (1785, 70, 8) (1785, 21) (1785, 29, 21) (1785, 29, 8)\n",
      "71 (1785, 71, 21) (1785, 71, 8) (1785, 21) (1785, 28, 21) (1785, 28, 8)\n",
      "72 (1785, 72, 21) (1785, 72, 8) (1785, 21) (1785, 27, 21) (1785, 27, 8)\n",
      "73 (1785, 73, 21) (1785, 73, 8) (1785, 21) (1785, 26, 21) (1785, 26, 8)\n",
      "74 (1785, 74, 21) (1785, 74, 8) (1785, 21) (1785, 25, 21) (1785, 25, 8)\n",
      "75 (1785, 75, 21) (1785, 75, 8) (1785, 21) (1785, 24, 21) (1785, 24, 8)\n",
      "76 (1785, 76, 21) (1785, 76, 8) (1785, 21) (1785, 23, 21) (1785, 23, 8)\n",
      "77 (1785, 77, 21) (1785, 77, 8) (1785, 21) (1785, 22, 21) (1785, 22, 8)\n",
      "78 (1785, 78, 21) (1785, 78, 8) (1785, 21) (1785, 21, 21) (1785, 21, 8)\n",
      "79 (1785, 79, 21) (1785, 79, 8) (1785, 21) (1785, 20, 21) (1785, 20, 8)\n",
      "80 (1785, 80, 21) (1785, 80, 8) (1785, 21) (1785, 19, 21) (1785, 19, 8)\n",
      "81 (1785, 81, 21) (1785, 81, 8) (1785, 21) (1785, 18, 21) (1785, 18, 8)\n",
      "82 (1785, 82, 21) (1785, 82, 8) (1785, 21) (1785, 17, 21) (1785, 17, 8)\n",
      "83 (1785, 83, 21) (1785, 83, 8) (1785, 21) (1785, 16, 21) (1785, 16, 8)\n",
      "84 (1785, 84, 21) (1785, 84, 8) (1785, 21) (1785, 15, 21) (1785, 15, 8)\n",
      "85 (1785, 85, 21) (1785, 85, 8) (1785, 21) (1785, 14, 21) (1785, 14, 8)\n",
      "86 (1785, 86, 21) (1785, 86, 8) (1785, 21) (1785, 13, 21) (1785, 13, 8)\n",
      "87 (1785, 87, 21) (1785, 87, 8) (1785, 21) (1785, 12, 21) (1785, 12, 8)\n",
      "88 (1785, 88, 21) (1785, 88, 8) (1785, 21) (1785, 11, 21) (1785, 11, 8)\n",
      "89 (1785, 89, 21) (1785, 89, 8) (1785, 21) (1785, 10, 21) (1785, 10, 8)\n",
      "90 (1785, 90, 21) (1785, 90, 8) (1785, 21) (1785, 9, 21) (1785, 9, 8)\n",
      "91 (1785, 91, 21) (1785, 91, 8) (1785, 21) (1785, 8, 21) (1785, 8, 8)\n",
      "92 (1785, 92, 21) (1785, 92, 8) (1785, 21) (1785, 7, 21) (1785, 7, 8)\n",
      "93 (1785, 93, 21) (1785, 93, 8) (1785, 21) (1785, 6, 21) (1785, 6, 8)\n",
      "94 (1785, 94, 21) (1785, 94, 8) (1785, 21) (1785, 5, 21) (1785, 5, 8)\n",
      "95 (1785, 95, 21) (1785, 95, 8) (1785, 21) (1785, 4, 21) (1785, 4, 8)\n",
      "96 (1785, 96, 21) (1785, 96, 8) (1785, 21) (1785, 3, 21) (1785, 3, 8)\n",
      "97 (1785, 97, 21) (1785, 97, 8) (1785, 21) (1785, 2, 21) (1785, 2, 8)\n",
      "98 (1785, 98, 21) (1785, 98, 8) (1785, 21) (1785, 1, 21) (1785, 1, 8)\n"
     ]
    }
   ],
   "source": [
    "for t in input_states.keys():\n",
    "    print(t, input_states[t].shape, input_actions[t].shape, intermediate_states[t].shape, output_states[t].shape, output_actions[t].shape)"
   ]
  },
  {
   "cell_type": "code",
   "execution_count": 11,
   "metadata": {},
   "outputs": [],
   "source": [
    "def get_split_indices(N, train=0.9, val=0.05, test=0.05):\n",
    "    n = np.arange(N)\n",
    "    np.random.shuffle(n)\n",
    "    print(n)\n",
    "    a = int(N*train)\n",
    "    b = int(N*val)\n",
    "    c = int(N*test)\n",
    "    train = n[0:a]\n",
    "    val = n[a:a+b]\n",
    "    test = n[a+b:]\n",
    "    return train, val, test"
   ]
  },
  {
   "cell_type": "code",
   "execution_count": 13,
   "metadata": {},
   "outputs": [
    {
     "name": "stdout",
     "output_type": "stream",
     "text": [
      "[1502 1282 1483 ...  275  210  493]\n"
     ]
    }
   ],
   "source": [
    "train_i, val_i, test_i = get_split_indices(N=input_states[1].shape[0])"
   ]
  },
  {
   "cell_type": "code",
   "execution_count": 15,
   "metadata": {},
   "outputs": [
    {
     "data": {
      "text/plain": [
       "(1606, 89, 90)"
      ]
     },
     "execution_count": 15,
     "metadata": {},
     "output_type": "execute_result"
    }
   ],
   "source": [
    "train_i.shape[0], val_i.shape[0], test_i.shape[0]"
   ]
  },
  {
   "cell_type": "code",
   "execution_count": 19,
   "metadata": {},
   "outputs": [],
   "source": [
    "input_states_train = {}\n",
    "input_actions_train = {}\n",
    "intermediate_states_train = {}\n",
    "output_states_train = {}\n",
    "output_actions_train = {}\n",
    "\n",
    "for t in input_states.keys():\n",
    "    input_states_train[t] = input_states[t][train_i]\n",
    "    input_actions_train[t] = input_actions[t][train_i]\n",
    "    intermediate_states_train[t] = intermediate_states[t][train_i]\n",
    "    output_states_train[t] = output_states[t][train_i]\n",
    "    output_actions_train[t] = output_actions[t][train_i]"
   ]
  },
  {
   "cell_type": "code",
   "execution_count": 20,
   "metadata": {},
   "outputs": [],
   "source": [
    "input_states_val = {}\n",
    "input_actions_val = {}\n",
    "intermediate_states_val = {}\n",
    "output_states_val = {}\n",
    "output_actions_val = {}\n",
    "\n",
    "for t in input_states.keys():\n",
    "    input_states_val[t] = input_states[t][val_i]\n",
    "    input_actions_val[t] = input_actions[t][val_i]\n",
    "    intermediate_states_val[t] = intermediate_states[t][val_i]\n",
    "    output_states_val[t] = output_states[t][val_i]\n",
    "    output_actions_val[t] = output_actions[t][val_i]"
   ]
  },
  {
   "cell_type": "code",
   "execution_count": 21,
   "metadata": {},
   "outputs": [],
   "source": [
    "input_states_test = {}\n",
    "input_actions_test = {}\n",
    "intermediate_states_test = {}\n",
    "output_states_test = {}\n",
    "output_actions_test = {}\n",
    "\n",
    "for t in input_states.keys():\n",
    "    input_states_test[t] = input_states[t][test_i]\n",
    "    input_actions_test[t] = input_actions[t][test_i]\n",
    "    intermediate_states_test[t] = intermediate_states[t][test_i]\n",
    "    output_states_test[t] = output_states[t][test_i]\n",
    "    output_actions_test[t] = output_actions[t][test_i]"
   ]
  },
  {
   "cell_type": "code",
   "execution_count": 22,
   "metadata": {},
   "outputs": [],
   "source": [
    "train = {\n",
    "    \"input_states\" : input_states_train,\n",
    "    \"input_actions\": input_actions_train,\n",
    "    \"intermediate_states\": intermediate_states_train,\n",
    "    \"output_states\": output_states_train,\n",
    "    \"output_actions\": output_actions_train\n",
    "}\n",
    "val = {\n",
    "    \"input_states\" : input_states_val,\n",
    "    \"input_actions\": input_actions_val,\n",
    "    \"intermediate_states\": intermediate_states_val,\n",
    "    \"output_states\": output_states_val,\n",
    "    \"output_actions\": output_actions_val\n",
    "}\n",
    "test = {\n",
    "    \"input_states\" : input_states_test,\n",
    "    \"input_actions\": input_actions_test,\n",
    "    \"intermediate_states\": intermediate_states_test,\n",
    "    \"output_states\": output_states_test,\n",
    "    \"output_actions\": output_actions_test\n",
    "}"
   ]
  },
  {
   "cell_type": "code",
   "execution_count": 28,
   "metadata": {},
   "outputs": [],
   "source": [
    "with open(root+\"/../datasets/custom_rnn_uniform/train.pickle\", \"wb\") as f:\n",
    "    pickle.dump(train, f)\n",
    "with open(root+\"/../datasets/custom_rnn_uniform/val.pickle\", \"wb\") as f:\n",
    "    pickle.dump(val, f)\n",
    "with open(root+\"/../datasets/custom_rnn_uniform/test.pickle\", \"wb\") as f:\n",
    "    pickle.dump(test, f)"
   ]
  }
 ],
 "metadata": {
  "file_extension": ".py",
  "kernelspec": {
   "display_name": "Python 3",
   "language": "python",
   "name": "python3"
  },
  "language_info": {
   "codemirror_mode": {
    "name": "ipython",
    "version": 3
   },
   "file_extension": ".py",
   "mimetype": "text/x-python",
   "name": "python",
   "nbconvert_exporter": "python",
   "pygments_lexer": "ipython3",
   "version": "3.6.10"
  },
  "mimetype": "text/x-python",
  "name": "python",
  "npconvert_exporter": "python",
  "pygments_lexer": "ipython3",
  "version": 3
 },
 "nbformat": 4,
 "nbformat_minor": 2
}
