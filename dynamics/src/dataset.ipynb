{
 "nbformat": 4,
 "nbformat_minor": 2,
 "metadata": {
  "language_info": {
   "name": "python",
   "codemirror_mode": {
    "name": "ipython",
    "version": 3
   },
   "version": "3.7.3-final"
  },
  "orig_nbformat": 2,
  "file_extension": ".py",
  "mimetype": "text/x-python",
  "name": "python",
  "npconvert_exporter": "python",
  "pygments_lexer": "ipython3",
  "version": 3,
  "kernelspec": {
   "name": "python37364bitbasecondae52ca9f3053d45b790593a9562962acf",
   "display_name": "Python 3.7.3 64-bit ('base': conda)"
  }
 },
 "cells": [
  {
   "cell_type": "code",
   "execution_count": 1,
   "metadata": {},
   "outputs": [],
   "source": [
    "import os\n",
    "import numpy as np\n",
    "from data_loader import DataLoader"
   ]
  },
  {
   "cell_type": "code",
   "execution_count": 2,
   "metadata": {},
   "outputs": [],
   "source": [
    "root = os.getcwd()\n",
    "X = np.load(root+\"/../datasets/states.npy\")\n",
    "A = np.load(root+\"/../datasets/actions.npy\")\n",
    "Y = np.load(root+\"/../datasets/next_states.npy\")\n",
    "X_cat = np.concatenate((X, A), axis=2)"
   ]
  },
  {
   "cell_type": "code",
   "execution_count": 3,
   "metadata": {},
   "outputs": [
    {
     "name": "stdout",
     "output_type": "stream",
     "text": "(178527, 100, 21) (178527, 100, 8) (178527, 100, 29) (178527, 100, 21)\n"
    }
   ],
   "source": [
    "print(X.shape, A.shape, X_cat.shape, Y.shape)"
   ]
  },
  {
   "cell_type": "code",
   "execution_count": 4,
   "metadata": {},
   "outputs": [
    {
     "name": "stdout",
     "output_type": "stream",
     "text": "0 0 0\n(100, 21) (100, 8) (100, 21)\n"
    }
   ],
   "source": [
    "for x, a, y in zip(enumerate(X), enumerate(A), enumerate(Y)):\n",
    "    xi, xe = x\n",
    "    ai, ae = a\n",
    "    yi, ye = y\n",
    "    print(xi, ai, yi)\n",
    "    print(xe.shape, ae.shape, ye.shape)\n",
    "    break"
   ]
  },
  {
   "cell_type": "code",
   "execution_count": 5,
   "metadata": {},
   "outputs": [],
   "source": [
    "train, val, test = DataLoader.split_train_val_test(X_in=X_cat, Y_in=Y, train=0.9, val=0.05, test=0.05)\n",
    "X_cat_train, Y_train = train\n",
    "X_cat_val, Y_val = val\n",
    "X_cat_test, Y_test = test"
   ]
  },
  {
   "cell_type": "code",
   "execution_count": 8,
   "metadata": {},
   "outputs": [],
   "source": [
    "X_train, A_train = X_cat_train[:, :, :21], X_cat_train[:, :, 21:]\n",
    "X_val, A_val = X_cat_val[:, :, :21], X_cat_val[:, :, 21:]\n",
    "X_test, A_test = X_cat_test[:, :, :21], X_cat_test[:, :, 21:]"
   ]
  },
  {
   "cell_type": "code",
   "execution_count": 9,
   "metadata": {},
   "outputs": [
    {
     "name": "stdout",
     "output_type": "stream",
     "text": "(160673, 100, 21) (160673, 100, 8) (160673, 100, 21)\n(8927, 100, 21) (8927, 100, 8) (8927, 100, 21)\n(8927, 100, 21) (8927, 100, 8) (8927, 100, 21)\n"
    }
   ],
   "source": [
    "print(X_train.shape, A_train.shape, Y_train.shape)\n",
    "print(X_val.shape, A_val.shape, Y_val.shape)\n",
    "print(X_test.shape, A_test.shape, Y_test.shape)"
   ]
  },
  {
   "cell_type": "code",
   "execution_count": 10,
   "metadata": {},
   "outputs": [],
   "source": [
    "DataLoader.save_data(X_train, path=root+\"/../datasets/train/states.npy\")\n",
    "DataLoader.save_data(A_train, path=root+\"/../datasets/train/actions.npy\")\n",
    "DataLoader.save_data(Y_train, path=root+\"/../datasets/train/next_states.npy\")"
   ]
  },
  {
   "cell_type": "code",
   "execution_count": 11,
   "metadata": {},
   "outputs": [],
   "source": [
    "DataLoader.save_data(X_val, path=root+\"/../datasets/val/states.npy\")\n",
    "DataLoader.save_data(A_val, path=root+\"/../datasets/val/actions.npy\")\n",
    "DataLoader.save_data(Y_val, path=root+\"/../datasets/val/next_states.npy\")"
   ]
  },
  {
   "cell_type": "code",
   "execution_count": 12,
   "metadata": {},
   "outputs": [],
   "source": [
    "DataLoader.save_data(X_test, path=root+\"/../datasets/test/states.npy\")\n",
    "DataLoader.save_data(A_test, path=root+\"/../datasets/test/actions.npy\")\n",
    "DataLoader.save_data(Y_test, path=root+\"/../datasets/test/next_states.npy\")"
   ]
  }
 ]
}